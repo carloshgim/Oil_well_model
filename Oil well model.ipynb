{
 "cells": [
  {
   "attachments": {},
   "cell_type": "markdown",
   "metadata": {},
   "source": [
    "# Proyecto sobre nuevo pozo de la compañía OilyGiant por *Carlos Horta* (carlosgim@gmail.com)"
   ]
  },
  {
   "attachments": {},
   "cell_type": "markdown",
   "metadata": {},
   "source": [
    "---"
   ]
  },
  {
   "attachments": {},
   "cell_type": "markdown",
   "metadata": {},
   "source": [
    "---"
   ]
  },
  {
   "attachments": {},
   "cell_type": "markdown",
   "metadata": {},
   "source": [
    "## Tabla de contenidos"
   ]
  },
  {
   "attachments": {},
   "cell_type": "markdown",
   "metadata": {},
   "source": [
    "- Descripción del proyecto\n",
    "- Exploración del proyecto\n",
    "- Análisis exploratorio de los datos\n",
    "- Generación de modelo de Regresión logística\n",
    "- Cálculo de ganancias por región\n",
    "- Riesgos y ganancias por cada región\n",
    "- Conclusiones"
   ]
  },
  {
   "attachments": {},
   "cell_type": "markdown",
   "metadata": {},
   "source": [
    "---"
   ]
  },
  {
   "attachments": {},
   "cell_type": "markdown",
   "metadata": {},
   "source": [
    "---"
   ]
  },
  {
   "attachments": {},
   "cell_type": "markdown",
   "metadata": {},
   "source": [
    "## Descripción del proyecto\n",
    "\n",
    "El objetivo general de este proyecto es identificar el mejor lugar para un nuevo pozo de petróleo de la compañía OilyGiant. \n",
    "\n",
    "Para lograr este objetivo general, se seguirán los siguientes pasos:\n",
    "\n",
    "1. Revisar los parámetros del pozo de petróleo en la región seleccionada, incluyendo la calidad del petróleo y el volumen de reservas. Esta información es crucial para evaluar el potencial de cada región en términos de producción de petróleo.\n",
    "\n",
    "2. Construir un modelo para predecir el volumen de las reservas en los nuevos pozos. Utilizando datos históricos de pozos existentes y técnicas de aprendizaje automático, se desarrollará un modelo que pueda estimar de manera precisa y confiable el volumen de petróleo que se puede extraer de un pozo.\n",
    "\n",
    "3. Seleccionar los pozos de petróleo con los valores estimados más altos. Con base en las predicciones del modelo, se identificarán los pozos con el mayor potencial de producción y los mejores rendimientos económicos.\n",
    "\n",
    "4. Elegir la región con el mayor beneficio total para los pozos de petróleo seleccionados. Considerando el volumen estimado de las reservas y los costos asociados con la extracción, se calculará el beneficio potencial para cada región y se seleccionará aquella que ofrezca el mayor retorno de inversión.\n",
    "\n",
    "Al seguir estos pasos, se espera poder tomar decisiones informadas y estratégicas en cuanto a la ubicación del nuevo pozo de petróleo, maximizando el potencial de producción y los beneficios económicos para la compañía OilyGiant.\n"
   ]
  },
  {
   "attachments": {},
   "cell_type": "markdown",
   "metadata": {},
   "source": [
    "---"
   ]
  },
  {
   "attachments": {},
   "cell_type": "markdown",
   "metadata": {},
   "source": [
    "---"
   ]
  },
  {
   "attachments": {},
   "cell_type": "markdown",
   "metadata": {},
   "source": [
    "## Exploración de los datos"
   ]
  },
  {
   "cell_type": "code",
   "execution_count": null,
   "metadata": {},
   "outputs": [],
   "source": [
    "# Estas son las librerías a utilizar en este proyecto\n",
    "\n",
    "import pandas as pd\n",
    "import matplotlib.pyplot as plt\n",
    "import numpy as np\n",
    "import seaborn as sns\n",
    "from sklearn import tree\n",
    "from sklearn.tree import DecisionTreeClassifier\n",
    "from sklearn.metrics import accuracy_score\n",
    "from sklearn.model_selection import train_test_split \n",
    "from sklearn.linear_model import LogisticRegression\n",
    "from sklearn.model_selection import train_test_split \n",
    "from sklearn.ensemble import RandomForestClassifier\n",
    "from sklearn.metrics import f1_score\n",
    "from sklearn.dummy import DummyClassifier\n",
    "from sklearn.preprocessing import StandardScaler\n",
    "import plotly.express as px\n",
    "from sklearn.utils import shuffle\n",
    "from sklearn.metrics import roc_curve\n",
    "from sklearn.metrics import roc_auc_score\n",
    "from sklearn.model_selection import train_test_split\n",
    "from sklearn.linear_model import LinearRegression\n",
    "from sklearn.metrics import mean_squared_error\n",
    "from scipy import stats as st \n"
   ]
  },
  {
   "cell_type": "code",
   "execution_count": null,
   "metadata": {},
   "outputs": [],
   "source": [
    "# La información de cada uno de las tres regiones se encuentra en un archivo csv, por lo que se debe cargar cada uno de estos archivos en un dataframe de pandas para poder trabajar con ellos.\n",
    "\n",
    "try:\n",
    "    region_cero = pd.read_csv('geo_data_0.csv')\n",
    "except:\n",
    "    region_cero = pd.read_csv('/datasets/geo_data_0.csv')\n",
    "\n",
    "try:\n",
    "    region_uno = pd.read_csv('geo_data_1.csv')\n",
    "except:\n",
    "    region_uno = pd.read_csv('/datasets/geo_data_1.csv')\n",
    "\n",
    "try:\n",
    "    region_dos = pd.read_csv('geo_data_2.csv')\n",
    "except:\n",
    "    region_dos = pd.read_csv('/datasets/geo_data_2.csv')\n"
   ]
  },
  {
   "cell_type": "code",
   "execution_count": null,
   "metadata": {},
   "outputs": [],
   "source": [
    "# Es necesario revisar de manera soomera la información que se tiene en cada uno de los dataframes, para ello se utiliza el método info().\n",
    "\n",
    "print(region_cero.info())\n",
    "print('------------------')\n",
    "print(region_uno.info())\n",
    "print('------------------')\n",
    "print(region_dos.info())"
   ]
  },
  {
   "cell_type": "code",
   "execution_count": null,
   "metadata": {},
   "outputs": [],
   "source": [
    "# Es necesario revisar si no existen valores duplicados en los datasets, para ello se utiliza el método duplicated().\n",
    "\n",
    "region_cero.duplicated().sum()\n",
    "region_uno.duplicated().sum()\n",
    "region_dos.duplicated().sum()"
   ]
  },
  {
   "attachments": {},
   "cell_type": "markdown",
   "metadata": {},
   "source": [
    "Como se observa, cada dataset contiene 10,000 filas y 4 columnas que corresponden a lo siguiente:\n",
    "\n",
    "- **id**: Es el identificador único de cada pozo de petróleo.\n",
    "- **f0**, **f1** y **f2**: Son tres características de los pozos de petróleo. Aunque no se especifica su significado específico, estas características son relevantes para el análisis.\n",
    "- **product**: Representa el volumen de reservas en cada pozo, medido en miles de barriles.\n",
    "\n",
    "Es importante destacar que ninguno de los tres datasets contiene valores duplicados, lo que significa que cada fila representa un pozo único de petróleo.\n",
    "\n",
    "Con esta información, se cuenta con un conjunto de datos completo y listo para su análisis y procesamiento posterior.\n"
   ]
  },
  {
   "attachments": {},
   "cell_type": "markdown",
   "metadata": {},
   "source": [
    "A continuación es necesario remover la columna 'id' porque no es relevante para la consecución del proyecto."
   ]
  },
  {
   "cell_type": "code",
   "execution_count": null,
   "metadata": {},
   "outputs": [],
   "source": [
    "region_cero.drop(['id'], axis=1, inplace=True)\n",
    "region_uno.drop(['id'], axis=1, inplace=True)\n",
    "region_dos.drop(['id'], axis=1, inplace=True)"
   ]
  },
  {
   "attachments": {},
   "cell_type": "markdown",
   "metadata": {},
   "source": [
    "Como los datos se encuentran limpios, completos y listos para su uso, será necesario en el siguiente apartado revisar cada uno de los datasets, y de sus columnas, para explorar los datos antes del modelado de datos.\n"
   ]
  },
  {
   "attachments": {},
   "cell_type": "markdown",
   "metadata": {},
   "source": [
    "----"
   ]
  },
  {
   "attachments": {},
   "cell_type": "markdown",
   "metadata": {},
   "source": [
    "----"
   ]
  },
  {
   "attachments": {},
   "cell_type": "markdown",
   "metadata": {},
   "source": [
    "## Análisis exploratorio de los datos"
   ]
  },
  {
   "attachments": {},
   "cell_type": "markdown",
   "metadata": {},
   "source": [
    "### Análisis exploratorio de los datos"
   ]
  },
  {
   "attachments": {},
   "cell_type": "markdown",
   "metadata": {},
   "source": [
    "Antes del procesamiento de los datos y de las características, es necesario revisar de manera somera las diferentes columnas de cada dataset para encontrar algunas singularidades que puedan saltar a la vista."
   ]
  },
  {
   "attachments": {},
   "cell_type": "markdown",
   "metadata": {},
   "source": [
    "#### Región cero"
   ]
  },
  {
   "cell_type": "code",
   "execution_count": null,
   "metadata": {},
   "outputs": [],
   "source": [
    "fig = px.histogram(region_cero, x=\"product\")\n",
    "fig.show()"
   ]
  },
  {
   "attachments": {},
   "cell_type": "markdown",
   "metadata": {},
   "source": [
    "Como se puede apreciar, la característica de interés \"product\" (que equivale al volumen de reservas de cada pozo de petróleo en miles de barriles) extiende su rango desde 0 y hasta 185.5 mil barriles."
   ]
  },
  {
   "cell_type": "code",
   "execution_count": null,
   "metadata": {},
   "outputs": [],
   "source": [
    "fig = px.scatter_matrix(region_cero, color='product', title=\"Matriz de gráficos de dispersión de las variables del dataset de acuerdo a la cantidad de petroleo en reserva en la región cero\")\n",
    "fig.update_traces(diagonal_visible=False)\n",
    "fig.update_xaxes(showticklabels=True)\n",
    "fig.show()"
   ]
  },
  {
   "attachments": {},
   "cell_type": "markdown",
   "metadata": {},
   "source": [
    "A partir de la matriz de gráficos de dispersión, y de acuerdo con la cantidad de miles de barriles en reserva de cada pozo, no se puede realizar algún comentario o correlación porque las tres características (f0, f1 y f2) no tienen significado específico, pero se saben que son significativas.\n",
    "\n",
    "Se intuye una situación similar en cada uno de los tres datasets."
   ]
  },
  {
   "attachments": {},
   "cell_type": "markdown",
   "metadata": {},
   "source": [
    "#### Región uno"
   ]
  },
  {
   "cell_type": "code",
   "execution_count": null,
   "metadata": {},
   "outputs": [],
   "source": [
    "fig = px.histogram(region_uno, x=\"product\")\n",
    "fig.show()"
   ]
  },
  {
   "attachments": {},
   "cell_type": "markdown",
   "metadata": {},
   "source": [
    "A diferencia de la región cero, donde la distribución de los pozos es polimodal, en esta región los pozos se encuentran divididos en 6 grandes bloques de reservas, e inicia con 8,233 pozos sin reservas, y finaliza 8,233 pozos con 138 mil barriles en cada uno de ellos."
   ]
  },
  {
   "cell_type": "code",
   "execution_count": null,
   "metadata": {},
   "outputs": [],
   "source": [
    "fig = px.scatter_matrix(region_uno, color='product', title=\"Matriz de gráficos de dispersión de las variables del dataset de acuerdo a la cantidad de petroleo en reserva en la región uno\")\n",
    "fig.update_traces(diagonal_visible=False)\n",
    "fig.update_xaxes(showticklabels=True)\n",
    "fig.show()"
   ]
  },
  {
   "attachments": {},
   "cell_type": "markdown",
   "metadata": {},
   "source": [
    "Con la matriz de gráficos de dispersión ocurre algo similar que con la región cero: no se puede obtener conclusiones al no conocerse el significado de las tres columnas de características."
   ]
  },
  {
   "attachments": {},
   "cell_type": "markdown",
   "metadata": {},
   "source": [
    "#### Región dos"
   ]
  },
  {
   "cell_type": "code",
   "execution_count": null,
   "metadata": {},
   "outputs": [],
   "source": [
    "fig = px.histogram(region_dos, x=\"product\")\n",
    "fig.show()"
   ]
  },
  {
   "attachments": {},
   "cell_type": "markdown",
   "metadata": {},
   "source": [
    "La región dos tiene un comportamiento similar a la región cero con una distribución multimodal de los datos. En este dataset son pocos los datos en los extremos y se concentran en la región central con varios picos de frecuencia."
   ]
  },
  {
   "cell_type": "code",
   "execution_count": null,
   "metadata": {},
   "outputs": [],
   "source": [
    "fig = px.scatter_matrix(region_dos, color='product', title=\"Matriz de gráficos de dispersión de las variables del dataset de acuerdo a la cantidad de petroleo en reserva en la región dos\")\n",
    "fig.update_traces(diagonal_visible=False)\n",
    "fig.update_xaxes(showticklabels=True)\n",
    "fig.show()"
   ]
  },
  {
   "attachments": {},
   "cell_type": "markdown",
   "metadata": {},
   "source": [
    "Y al igual que con las otras dos regiones, la matriz de gráficos de dispersión no permite intuir algún hallazgo o correlación a simple vista porque se desconoce el significado de las características."
   ]
  },
  {
   "attachments": {},
   "cell_type": "markdown",
   "metadata": {},
   "source": [
    "#### Conclusiones\n",
    "\n",
    "A partir del análisis de los histogramas y gráficos de dispersión, se puede concluir lo siguiente:\n",
    "\n",
    "- No es posible identificar ninguna correlación significativa entre la variable objetivo y el resto de las características debido a que no se conoce el significado específico de cada una de ellas.\n",
    "\n",
    "- Sin embargo, se pudo observar un hallazgo interesante en cuanto a la distribución de las reservas de petróleo en las diferentes regiones. La región cero y la región dos presentan una distribución multimodal, lo que sugiere la existencia de diferentes grupos o clusters en cuanto a las reservas de petróleo. Por otro lado, la región uno muestra una distribución dividida en seis grandes bloques, lo cual podría indicar una segmentación clara de las reservas en esta región.\n",
    "\n",
    "Estos hallazgos pueden servir como punto de partida para futuros análisis y exploraciones más detalladas sobre las características y distribución de las reservas de petróleo en cada región.\n"
   ]
  },
  {
   "attachments": {},
   "cell_type": "markdown",
   "metadata": {},
   "source": [
    "----"
   ]
  },
  {
   "attachments": {},
   "cell_type": "markdown",
   "metadata": {},
   "source": [
    "---"
   ]
  },
  {
   "attachments": {},
   "cell_type": "markdown",
   "metadata": {},
   "source": [
    "## Generación de modelo de Regresión logística"
   ]
  },
  {
   "attachments": {},
   "cell_type": "markdown",
   "metadata": {},
   "source": [
    "### Creación de los datasets para entrenamiento y validación"
   ]
  },
  {
   "attachments": {},
   "cell_type": "markdown",
   "metadata": {},
   "source": [
    "Antes de iniciar com el modelado de los datos, es necesario crear los datasets de entrenamiento (con el 75% del total de los datos) y de validación (con el restante 25%).\n",
    "\n",
    "La característica objetivo es \"product\" y el modelo a desarrollar será uno que prediga, a partir de las características, la región con el mayor margen de beneficio."
   ]
  },
  {
   "cell_type": "code",
   "execution_count": null,
   "metadata": {},
   "outputs": [],
   "source": [
    "# Esta es la división de los datos en entrenamiento y validación para la región cero.\n",
    "\n",
    "target_cero = region_cero['product']\n",
    "features_cero = region_cero.drop(['product'], axis=1)\n",
    "features_train_cero, features_valid_cero, target_train_cero, target_valid_cero = train_test_split(\n",
    "    features_cero, target_cero, test_size=0.25, random_state=12345\n",
    ")"
   ]
  },
  {
   "cell_type": "code",
   "execution_count": null,
   "metadata": {},
   "outputs": [],
   "source": [
    "# Esta es la división de los datos en entrenamiento y validación para la región uno.\n",
    "\n",
    "target_uno = region_uno['product']\n",
    "features_uno = region_uno.drop(['product'], axis=1)\n",
    "features_train_uno, features_valid_uno, target_train_uno, target_valid_uno = train_test_split(\n",
    "    features_uno, target_uno, test_size=0.25, random_state=12345\n",
    ")"
   ]
  },
  {
   "cell_type": "code",
   "execution_count": null,
   "metadata": {},
   "outputs": [],
   "source": [
    "# Esta es la división de los datos en entrenamiento y validación para la región dos.\n",
    "\n",
    "target_dos = region_dos['product']\n",
    "features_dos = region_dos.drop(['product'], axis=1)\n",
    "features_train_dos, features_valid_dos, target_train_dos, target_valid_dos = train_test_split(\n",
    "    features_dos, target_dos, test_size=0.25, random_state=12345\n",
    ")"
   ]
  },
  {
   "cell_type": "code",
   "execution_count": null,
   "metadata": {},
   "outputs": [],
   "source": [
    "# Este es el número de elementos de los datasets creados para cada región.\n",
    "\n",
    "print(target_cero.shape), print(features_cero.shape)\n",
    "print(target_uno.shape), print(features_uno.shape)\n",
    "print(target_dos.shape), print(features_dos.shape)"
   ]
  },
  {
   "attachments": {},
   "cell_type": "markdown",
   "metadata": {},
   "source": [
    "### **Generación de los modelos de Regresión lineal por región**"
   ]
  },
  {
   "attachments": {},
   "cell_type": "markdown",
   "metadata": {},
   "source": [
    "En esta etapa del proyecto, se realizará un modelo de Regresión Lineal para cada una de las tres regiones y se calculará el RECM (Root Mean Square Error) como medida de la diferencia entre los valores predichos y los valores reales.\n",
    "\n",
    "Además, se calculará el promedio de las reservas de petróleo para cada región.\n",
    "\n",
    "Los resultados obtenidos en esta etapa proporcionarán información importante sobre el desempeño de los modelos de Regresión Lineal y el promedio de reservas en cada región.\n",
    "\n"
   ]
  },
  {
   "attachments": {},
   "cell_type": "markdown",
   "metadata": {},
   "source": [
    "### Región cero"
   ]
  },
  {
   "cell_type": "code",
   "execution_count": null,
   "metadata": {},
   "outputs": [],
   "source": [
    "model = LinearRegression()\n",
    "model.fit(features_train_cero, target_train_cero)\n",
    "predictions_valid_cero = model.predict(features_valid_cero)\n",
    "mse = mean_squared_error(target_valid_cero, predictions_valid_cero)\n",
    "average_predicted_volumen_cero = predictions_valid_cero.mean()\n",
    "\n",
    "print('Linear Regression')\n",
    "print('MSE =', mse)\n",
    "print('RMSE =', mse ** 0.5)\n",
    "print('Volumen medio previsto =', average_predicted_volumen_cero)\n",
    "print('------------------')\n",
    "\n",
    "reservas_cero = region_cero['product'].mean()\n",
    "print('La media de reservas de petroleo en la región cero es de', reservas_cero, 'miles de barriles.')"
   ]
  },
  {
   "attachments": {},
   "cell_type": "markdown",
   "metadata": {},
   "source": [
    "### Región uno"
   ]
  },
  {
   "cell_type": "code",
   "execution_count": null,
   "metadata": {},
   "outputs": [],
   "source": [
    "model = LinearRegression()\n",
    "model.fit(features_train_uno, target_train_uno)\n",
    "predictions_valid_uno = model.predict(features_valid_uno)\n",
    "mse = mean_squared_error(target_valid_uno, predictions_valid_uno)\n",
    "average_predicted_volumen_uno = predictions_valid_uno.mean()\n",
    "\n",
    "print('Linear Regression')\n",
    "print('MSE =', mse)\n",
    "print('RMSE =', mse ** 0.5)\n",
    "print('Volumen medio previsto =', average_predicted_volumen_uno)\n",
    "print('------------------')\n",
    "\n",
    "reservas_uno = region_uno['product'].mean()\n",
    "print('La media de reservas de petroleo en la región uno es de', reservas_uno, 'miles de barriles.')"
   ]
  },
  {
   "attachments": {},
   "cell_type": "markdown",
   "metadata": {},
   "source": [
    "### Región dos"
   ]
  },
  {
   "cell_type": "code",
   "execution_count": null,
   "metadata": {},
   "outputs": [],
   "source": [
    "model = LinearRegression()\n",
    "model.fit(features_train_dos, target_train_dos)\n",
    "predictions_valid_dos = model.predict(features_valid_dos)\n",
    "mse = mean_squared_error(target_valid_dos, predictions_valid_dos)\n",
    "average_predicted_volumen_dos = predictions_valid_dos.mean()\n",
    "\n",
    "print('Linear Regression')\n",
    "print('MSE =', mse)\n",
    "print('RMSE =', mse ** 0.5)\n",
    "print('Volumen medio previsto =', average_predicted_volumen_dos)\n",
    "print('------------------')\n",
    "\n",
    "reservas_dos = region_dos['product'].mean()\n",
    "print('La media de reservas de petroleo en la región dos es de', reservas_dos, 'miles de barriles.')"
   ]
  },
  {
   "attachments": {},
   "cell_type": "markdown",
   "metadata": {},
   "source": [
    "### Conclusiones de la **Generación de los diferentes modelos de Regresión lineal**\n"
   ]
  },
  {
   "attachments": {},
   "cell_type": "markdown",
   "metadata": {},
   "source": [
    "|             | RMSE  | Reservas en miles |  \n",
    "|-------------|-------|-------------------|\n",
    "| Región cero | 37.75 | 92.50             | \n",
    "| Región uno  | 0.89  | 68.82             | \n",
    "| Región dos  | 40.02 | 95.00             |  "
   ]
  },
  {
   "attachments": {},
   "cell_type": "markdown",
   "metadata": {},
   "source": [
    "Como se puede observar, el mejor resultado del RMSE se obtiene con la región uno, con un valor de 0.89. Por otro lado, en términos de las reservas de petróleo, la región uno tiene la menor cantidad con un promedio de 68.82 miles de barriles, mientras que la región cero y la región dos tienen promedios de 92.50 miles y 95.00 miles de barriles, respectivamente.\n",
    "\n",
    "Estos resultados permiten evaluar el desempeño de los modelos de Regresión Lineal y proporcionan información sobre las reservas de petróleo promedio en cada región.\n"
   ]
  },
  {
   "attachments": {},
   "cell_type": "markdown",
   "metadata": {},
   "source": [
    "-----"
   ]
  },
  {
   "attachments": {},
   "cell_type": "markdown",
   "metadata": {},
   "source": [
    "-----"
   ]
  },
  {
   "attachments": {},
   "cell_type": "markdown",
   "metadata": {},
   "source": [
    "## Cálculo de ganancias por región"
   ]
  },
  {
   "attachments": {},
   "cell_type": "markdown",
   "metadata": {},
   "source": [
    "En este apartado del proyecto, se realizará el cálculo del volumen de reservas necesario para desarrollar un nuevo pozo sin pérdidas y se comparará con el volumen medio de reservas por región. Para llevar a cabo este cálculo, se establecen las siguientes condiciones:\n",
    "\n",
    "- Se llevará a cabo un estudio de exploración en cada región, evaluando un total de 500 puntos.\n",
    "- Se seleccionarán los 200 mejores pozos de cada región para el cálculo del beneficio.\n",
    "- El presupuesto asignado para la perforación de los 200 pozos es de 100 millones de dólares.\n",
    "- Se establece que el precio de venta de un barril de petróleo es de 4.5 dólares, generando un ingreso de 4,500 dólares por unidad de producto.\n",
    "\n",
    "Con base en estas condiciones, se determinará el volumen de reservas necesario para que el proyecto no tenga pérdidas, y se comparará con el volumen medio de reservas por región."
   ]
  },
  {
   "cell_type": "code",
   "execution_count": null,
   "metadata": {},
   "outputs": [],
   "source": [
    "# Prespuesto de la compañía para el desarrollo de 200 nuevos pozos.\n",
    "presupuesto = 100000000 \n",
    "\n",
    "# Número de pozos que se pueden explorar con el presupuesto.\n",
    "pozos_explorar = 500\n",
    "\n",
    "# Número de pozos que se pueden desarrollar con el presupuesto.\n",
    "pozos_desarrollar = 200\n",
    "\n",
    "# Ingreso por una unidad de producto (1000 barriles).\n",
    "ingreso_unidad = 4500\n",
    "\n",
    "# Costo por barril de petroleo.\n",
    "barril_costo = 4.5"
   ]
  },
  {
   "cell_type": "code",
   "execution_count": null,
   "metadata": {},
   "outputs": [],
   "source": [
    "presupuesto_pozo = presupuesto/pozos_desarrollar\n",
    "print(presupuesto_pozo)\n",
    "\n",
    "pozo_roi = presupuesto_pozo/ingreso_unidad\n",
    "print(pozo_roi)\n"
   ]
  },
  {
   "attachments": {},
   "cell_type": "markdown",
   "metadata": {},
   "source": [
    "En esta etapa del proyecto, se procederá a desarrollar una función que permita seleccionar los 200 pozos a perforar en cada región, y posteriormente calcular la ganancia obtenida en cada región. \n",
    "\n",
    "La función tomará en cuenta los siguientes criterios:\n",
    "\n",
    "1. Se seleccionarán los 200 pozos con los valores estimados más altos de cada región.\n",
    "2. Se calculará la ganancia para cada región utilizando la siguiente fórmula: \n",
    "   - Ganancia = (Volumen de reservas * Precio del barril * 1000) - Presupuesto por región.\n",
    "\n",
    "Recuerda ajustar los valores específicos de tu proyecto, como el número de pozos a seleccionar y el presupuesto asignado, según corresponda.\n",
    "\n",
    "Una vez desarrollada la función, se podrá evaluar la ganancia obtenida en cada región y determinar cuál ofrece el mayor beneficio económico.\n",
    "\n"
   ]
  },
  {
   "cell_type": "code",
   "execution_count": null,
   "metadata": {},
   "outputs": [],
   "source": [
    "def calculate_profit(target, predictions):\n",
    "    predicted = pd.Series(predictions)\n",
    "    predicted.index = target.index\n",
    "    predicted = predicted.sort_values(ascending=False)\n",
    "    selected = target[predicted.index][:pozos_desarrollar]\n",
    "    profit = (selected.sum() * ingreso_unidad) - (presupuesto_pozo * pozos_desarrollar)\n",
    "    return profit\n",
    "\n",
    "print('La ganancia de la región cero es de', calculate_profit(target_valid_cero, predictions_valid_cero), 'dolares.')\n",
    "print('La ganancia de la región uno es de', calculate_profit(target_valid_uno, predictions_valid_uno), 'dolares.')\n",
    "print('La ganancia de la región dos es de', calculate_profit(target_valid_dos, predictions_valid_dos), 'dolares.')"
   ]
  },
  {
   "attachments": {},
   "cell_type": "markdown",
   "metadata": {},
   "source": [
    "Con respecto a la posible ganancia por regiones, se ha determinado que la región cero ofrece el mejor beneficio económico. Se estima una ganancia de 33,208,260.43 dólares para esta región, mientras que la región uno y la región dos ofrecen ganancias de aproximadamente 24 millones y 27 millones de dólares, respectivamente.\n",
    "\n",
    "Estos resultados indican que la región cero es la más rentable para desarrollar los 200 pozos seleccionados, brindando una mayor ganancia en comparación con las otras dos regiones.\n",
    "\n"
   ]
  },
  {
   "attachments": {},
   "cell_type": "markdown",
   "metadata": {},
   "source": [
    "## Riesgos y ganancias por cada región"
   ]
  },
  {
   "attachments": {},
   "cell_type": "markdown",
   "metadata": {},
   "source": [
    "Por último, en este apartado del proyecto es necesario realizar los siguientes puntos:\n",
    "\n",
    "* Utilizar 1,000 muestras con la técnica del bootstrapping para encontrar la distribución del beneficio.\n",
    "* Encontrar el beneficio promedio, el intervalo de confianza del 95% y el riesgo de pérdidas.\n",
    "* Encontrar una región para el desarrollo de pozos petroleros y justificar la elección."
   ]
  },
  {
   "cell_type": "code",
   "execution_count": null,
   "metadata": {},
   "outputs": [],
   "source": [
    "state = np.random.RandomState(123456)\n",
    "\n",
    "def calculate_riesgo_ganancia(target, prediction):\n",
    "    target = target.reset_index(drop=True)\n",
    "    values = []\n",
    "    negatives = 0\n",
    "    for i in range(1000):\n",
    "        target_subsample = target.sample(n=500, replace=True, random_state=state)\n",
    "        prediction_subsample = prediction[target_subsample.index]\n",
    "        ganancia = calculate_profit(target_subsample, prediction_subsample)\n",
    "        values.append(ganancia)\n",
    "        if ganancia < 0:\n",
    "            negatives += 1\n",
    "    \n",
    "    values = pd.Series(values)\n",
    "    mean = values.mean()\n",
    "    \n",
    "    lower = values.quantile(0.025)\n",
    "    upper = values.quantile(0.975)\n",
    "    \n",
    "    riesgo = negatives / 1000\n",
    "    \n",
    "    print('La ganancia esperada es de', mean, 'dolares.')\n",
    "    print('El riesgo de pérdida es del {0:.0%}.'.format(riesgo))\n",
    "    print('El intervalo de confianza es de', lower, 'y', upper, 'dolares.')\n",
    "    \n",
    "print('La región cero:')\n",
    "calculate_riesgo_ganancia(target_valid_cero, predictions_valid_cero)\n",
    "\n",
    "print('La región uno:')\n",
    "calculate_riesgo_ganancia(target_valid_uno, predictions_valid_uno)\n",
    "\n",
    "print('La región dos:')\n",
    "calculate_riesgo_ganancia(target_valid_dos, predictions_valid_dos)\n"
   ]
  },
  {
   "attachments": {},
   "cell_type": "markdown",
   "metadata": {},
   "source": [
    "La región cero:\n",
    "- Ganancia esperada: 4,420,136.08 dólares.\n",
    "- Riesgo de pérdida: 6%.\n",
    "- Intervalo de confianza: -999,601.69 y 9,691,842.29 dólares.\n",
    "\n",
    "La región uno:\n",
    "- Ganancia esperada: 5,234,361.99 dólares.\n",
    "- Riesgo de pérdida: 1%.\n",
    "- Intervalo de confianza: 1,344,567.29 y 9,457,136.03 dólares.\n",
    "\n",
    "La región dos:\n",
    "- Ganancia esperada: 4,211,496.90 dólares.\n",
    "- Riesgo de pérdida: 6%.\n",
    "- Intervalo de confianza: -1,213,691.35 y 9,489,261.66 dólares.\n",
    "\n",
    "Como se observa, la región uno es la más recomendada para el desarrollo de nuevos pozos petroleros. Esta región tiene una ganancia esperada de 5,234,361.99 dólares, un riesgo de pérdida del 1% y un intervalo de confianza que va desde 1,344,567.29 hasta 9,457,136.03 dólares. Las otras dos regiones también tienen ganancias estimadas, pero presentan un mayor riesgo de pérdida. Por lo tanto, la región uno ofrece una mejor combinación de ganancia y riesgo, convirtiéndola en la elección más favorable para el desarrollo de pozos petroleros.\n",
    "\n"
   ]
  },
  {
   "attachments": {},
   "cell_type": "markdown",
   "metadata": {},
   "source": [
    "## Conclusiones\n",
    "\n",
    "En este proyecto, se llevó a cabo un análisis exhaustivo para identificar el mejor lugar para la exploración de nuevos pozos petroleros. A continuación, se presentan las principales conclusiones obtenidas:\n",
    "\n",
    "- Se utilizó el modelo de Regresión lineal para cada una de las tres regiones con el fin de predecir el volumen de reservas en los nuevos pozos. Se evaluó el desempeño de cada modelo utilizando la métrica del RMSE (Root Mean Square Error), que nos indica la diferencia entre los valores predichos y los valores reales. Se determinó que la región uno presenta el menor valor de RMSE, lo que indica una mejor capacidad predictiva en comparación con las otras dos regiones.\n",
    "\n",
    "- Se estableció un ROI (Return on Investment) de 111.11 miles de barriles como el mínimo requerido para desarrollar un nuevo pozo sin pérdidas. Sin embargo, ninguna de las tres regiones alcanzó este nivel de reservas, lo que indica que se requerirán estrategias adicionales para maximizar la rentabilidad de los pozos.\n",
    "\n",
    "- Se realizó un análisis de ganancias por región, considerando el presupuesto de 100 millones de dólares destinado al desarrollo de 200 pozos petroleros. Se encontró que la región cero obtuvo el mayor beneficio con 33,208,260.43 dólares, seguida de la región dos con 27 millones de dólares y la región uno con 24 millones de dólares. Estos resultados refuerzan la importancia de considerar no solo el volumen de reservas, sino también el costo de desarrollo y la rentabilidad asociada.\n",
    "\n",
    "- Considerando el análisis de ganancias, riesgos y el intervalo de confianza, se concluyó que la región uno es la más recomendada para el desarrollo de nuevos pozos petroleros. Esta región presenta una ganancia esperada de 5,234,361.99 dólares, con un riesgo de pérdida del 1%. Además, se calculó un intervalo de confianza del 95% para estimar la variabilidad de las ganancias potenciales.\n",
    "\n",
    "En resumen, el proyecto ha permitido identificar la región más prometedora para la exploración de nuevos pozos petroleros, brindando información valiosa para la toma de decisiones en la industria petrolera. Se resalta la importancia de considerar múltiples factores, como el desempeño del modelo, el ROI, las ganancias y los riesgos asociados, para tomar decisiones informadas y maximizar la rentabilidad de los recursos invertidos.\n"
   ]
  }
 ],
 "metadata": {
  "kernelspec": {
   "display_name": "Python 3 (ipykernel)",
   "language": "python",
   "name": "python3"
  },
  "language_info": {
   "codemirror_mode": {
    "name": "ipython",
    "version": 3
   },
   "file_extension": ".py",
   "mimetype": "text/x-python",
   "name": "python",
   "nbconvert_exporter": "python",
   "pygments_lexer": "ipython3",
   "version": "3.9.5"
  },
  "toc": {
   "base_numbering": 1,
   "nav_menu": {},
   "number_sections": true,
   "sideBar": true,
   "skip_h1_title": true,
   "title_cell": "Table of Contents",
   "title_sidebar": "Contents",
   "toc_cell": false,
   "toc_position": {},
   "toc_section_display": true,
   "toc_window_display": false
  },
  "vscode": {
   "interpreter": {
    "hash": "410621c85258efa0ea47ad915638abc1a4a3304f33944a818dfb0fc7cd918640"
   }
  }
 },
 "nbformat": 4,
 "nbformat_minor": 2
}
